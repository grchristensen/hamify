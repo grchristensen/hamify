{
 "cells": [
  {
   "cell_type": "markdown",
   "metadata": {},
   "source": [
    "# Naive Bayesian Spam Filter\n",
    "\n",
    "This is the code for a Naive Bayesian Spam Filter fit to the \"SMS Spam Collection Dataset\" from Kaggle<sup>1</sup>."
   ]
  },
  {
   "cell_type": "code",
   "execution_count": 1,
   "metadata": {},
   "outputs": [],
   "source": [
    "import csv\n",
    "import pandas as pd"
   ]
  },
  {
   "cell_type": "code",
   "execution_count": 23,
   "metadata": {},
   "outputs": [
    {
     "name": "stdout",
     "output_type": "stream",
     "text": [
      "  LABEL                                                SMS\n",
      "0   ham  [go, until, jurong, point, crazy, available, o...\n",
      "1   ham                     [ok, lar, joking, wif, u, oni]\n",
      "2  spam  [free, entry, in, 2, a, wkly, comp, to, win, f...\n",
      "3   ham  [u, dun, say, so, early, hor, u, c, already, t...\n",
      "4   ham  [nah, i, don, t, think, he, goes, to, usf, he,...\n"
     ]
    }
   ],
   "source": [
    "# def load_data(path):\n",
    "#     data = []\n",
    "    \n",
    "#     with open(path) as csvfile:\n",
    "#         reader = csv.reader(csvfile)\n",
    "        \n",
    "#         for row in reader:\n",
    "#             if row[0] == 'spam':\n",
    "#                 label = 1\n",
    "#             elif row[0] == 'ham':\n",
    "#                 label = 0\n",
    "#             else:\n",
    "#                 continue\n",
    "            \n",
    "#             content = row[1]\n",
    "            \n",
    "#             content = content.replace('\\W+', ' ').replace('\\s+', ' ').strip()\n",
    "#             content = content.lower()\n",
    "#             content = content.split()\n",
    "            \n",
    "#             data.append([label, content])\n",
    "    \n",
    "#     return data\n",
    "\n",
    "sms_data = pd.read_csv('spam.csv', encoding='latin-1')\n",
    "sms_data = sms_data.drop(['Unnamed: 2', 'Unnamed: 3', 'Unnamed: 4'], axis=1)\n",
    "sms_data = sms_data.rename(columns={'v1': 'LABEL', 'v2': 'SMS'})\n",
    "\n",
    "print(sms_data_clean.head())"
   ]
  },
  {
   "cell_type": "code",
   "execution_count": 24,
   "metadata": {},
   "outputs": [
    {
     "name": "stdout",
     "output_type": "stream",
     "text": [
      "  LABEL                                                SMS\n",
      "0   ham  [go, until, jurong, point, crazy, available, o...\n",
      "1   ham                     [ok, lar, joking, wif, u, oni]\n",
      "2  spam  [free, entry, in, 2, a, wkly, comp, to, win, f...\n",
      "3   ham  [u, dun, say, so, early, hor, u, c, already, t...\n",
      "4   ham  [nah, i, don, t, think, he, goes, to, usf, he,...\n"
     ]
    }
   ],
   "source": [
    "sms_data_clean['SMS'] = sms_data['SMS'].str.replace('\\W+', ' ').str.replace('\\s+', ' ').str.strip()\n",
    "sms_data_clean['SMS'] = sms_data_clean['SMS'].str.lower()\n",
    "sms_data_clean['SMS'] = sms_data_clean['SMS'].str.split()\n",
    "\n",
    "print(sms_data_clean.head())"
   ]
  },
  {
   "cell_type": "markdown",
   "metadata": {},
   "source": [
    "[^1]: UCI Machine Learning. [n.d.]. SMS Spam Collection Dataset. Kaggle: Your Machine Learning and Data Science Community https:// www.kaggle.com/uciml/sms-spam-collection-dataset ([n. d.])."
   ]
  },
  {
   "cell_type": "code",
   "execution_count": 15,
   "metadata": {},
   "outputs": [
    {
     "name": "stdout",
     "output_type": "stream",
     "text": [
      "ham     86.593683\n",
      "spam    13.406317\n",
      "Name: LABEL, dtype: float64\n",
      "ham     86.40646\n",
      "spam    13.59354\n",
      "Name: LABEL, dtype: float64\n",
      "ham     86.983842\n",
      "spam    13.016158\n",
      "Name: LABEL, dtype: float64\n"
     ]
    }
   ],
   "source": [
    "train_data = sms_data_clean.sample(frac=0.8,random_state=1).reset_index(drop=True)\n",
    "test_data = sms_data_clean.drop(train_data.index).reset_index(drop=True)\n",
    "train_data = train_data.reset_index(drop=True)\n",
    "\n",
    "print(sms_data_clean['LABEL'].value_counts() / sms_data_clean.shape[0] * 100)\n",
    "print(train_data['LABEL'].value_counts() / train_data.shape[0] * 100)\n",
    "print(test_data['LABEL'].value_counts() / test_data.shape[0] * 100)"
   ]
  },
  {
   "cell_type": "code",
   "execution_count": 16,
   "metadata": {},
   "outputs": [
    {
     "name": "stdout",
     "output_type": "stream",
     "text": [
      "  LABEL                                                SMS  arng  notxt  \\\n",
      "0   ham                     [convey, my, regards, to, him]     0      0   \n",
      "1   ham       [û_, anyway, many, good, evenings, to, u, s]     0      0   \n",
      "2   ham  [my, sort, code, is, and, acc, no, is, the, ba...     0      0   \n",
      "3   ham                  [sorry, i, din, lock, my, keypad]     0      0   \n",
      "4  spam  [hi, babe, its, chloe, how, r, u, i, was, smas...     0      0   \n",
      "\n",
      "   christians  goodies  pages  09095350301  such  year  ...  second  flirt  \\\n",
      "0           0        0      0            0     0     0  ...       0      0   \n",
      "1           0        0      0            0     0     0  ...       0      0   \n",
      "2           0        0      0            0     0     0  ...       0      0   \n",
      "3           0        0      0            0     0     0  ...       0      0   \n",
      "4           0        0      0            0     0     0  ...       0      0   \n",
      "\n",
      "   breath  nic  85  stress  09058097218  80082  mad  08704439680  \n",
      "0       0    0   0       0            0      0    0            0  \n",
      "1       0    0   0       0            0      0    0            0  \n",
      "2       0    0   0       0            0      0    0            0  \n",
      "3       0    0   0       0            0      0    0            0  \n",
      "4       0    0   0       0            0      0    0            0  \n",
      "\n",
      "[5 rows x 7768 columns]\n"
     ]
    }
   ],
   "source": [
    "vocabulary = list(set(train_data['SMS'].sum()))\n",
    "word_counts_per_sms = pd.DataFrame([\n",
    "    [row[1].count(word) for word in vocabulary]\n",
    "    for _, row in train_data.iterrows()], columns=vocabulary)\n",
    "train_data = pd.concat([train_data.reset_index(), word_counts_per_sms], axis=1).iloc[:,1:]\n",
    "\n",
    "print(train_data.head())"
   ]
  },
  {
   "cell_type": "code",
   "execution_count": 29,
   "metadata": {},
   "outputs": [],
   "source": [
    "prob_spam = train_data['LABEL'].value_counts()['spam'] / train_data.shape[0]\n",
    "prob_ham = train_data['LABEL'].value_counts()['ham'] / train_data.shape[0]\n",
    "\n",
    "num_spam = train_data.loc[train_data['LABEL'] == 'spam', 'SMS'].apply(len).sum()\n",
    "num_ham = train_data.loc[train_data['LABEL'] == 'ham', 'SMS'].apply(len).sum()\n",
    "vocab_size = len(train_data.columns) - 3\n",
    "\n",
    "alpha = 1"
   ]
  },
  {
   "cell_type": "code",
   "execution_count": 20,
   "metadata": {},
   "outputs": [],
   "source": [
    "def prob_if_spam(word):\n",
    "    if word in train_data.columns:\n",
    "        return (train_data.loc[train_data['LABEL'] == 'spam', word].sum() + alpha) / (num_spam + alpha * vocab_size)\n",
    "    else:\n",
    "        return 1\n",
    "    \n",
    "def prob_if_ham(word):\n",
    "    if word in train_data.columns:\n",
    "        return (train_data.loc[train_data['LABEL'] == 'ham', word].sum() + alpha) / (num_ham + alpha * vocab_size)\n",
    "    else:\n",
    "        return 1"
   ]
  },
  {
   "cell_type": "code",
   "execution_count": 37,
   "metadata": {},
   "outputs": [],
   "source": [
    "def classify(message):\n",
    "    prob_message_is_spam = prob_spam\n",
    "    prob_message_is_ham = prob_ham\n",
    "    \n",
    "    for word in message:\n",
    "        prob_message_is_spam *= prob_if_spam(word)\n",
    "        prob_message_is_ham *= prob_if_ham(word)\n",
    "    \n",
    "    if prob_message_is_spam > prob_message_is_ham:\n",
    "        return 'spam', prob_message_is_spam, prob_message_is_ham\n",
    "    else:\n",
    "        return 'ham', prob_message_is_spam, prob_message_is_ham"
   ]
  },
  {
   "cell_type": "code",
   "execution_count": 39,
   "metadata": {},
   "outputs": [
    {
     "name": "stdout",
     "output_type": "stream",
     "text": [
      "('ham', 5e-324, 9.373544124290576e-301)\n"
     ]
    }
   ],
   "source": [
    "print(classify('Ringtone Club: Get the UK singles chart on your mobile each week and choose any top quality ringtone! This message is free of charge.'))"
   ]
  },
  {
   "cell_type": "code",
   "execution_count": 52,
   "metadata": {},
   "outputs": [],
   "source": [
    "def grade():\n",
    "    count = 0\n",
    "    correct = 0\n",
    "    \n",
    "    for _, row in test_data.iterrows():\n",
    "        count += 1\n",
    "        if count < 5:\n",
    "            print(row['LABEL'])\n",
    "        if classify(row['SMS'])[0] == row['LABEL']:\n",
    "            correct += 1\n",
    "    \n",
    "    return correct / count, correct, count"
   ]
  },
  {
   "cell_type": "code",
   "execution_count": 53,
   "metadata": {},
   "outputs": [
    {
     "name": "stdout",
     "output_type": "stream",
     "text": [
      "spam\n",
      "ham\n",
      "ham\n",
      "ham\n",
      "(0.9919210053859964, 1105, 1114)\n"
     ]
    }
   ],
   "source": [
    "print(grade())"
   ]
  }
 ],
 "metadata": {
  "kernelspec": {
   "display_name": "Python 3",
   "language": "python",
   "name": "python3"
  },
  "language_info": {
   "codemirror_mode": {
    "name": "ipython",
    "version": 3
   },
   "file_extension": ".py",
   "mimetype": "text/x-python",
   "name": "python",
   "nbconvert_exporter": "python",
   "pygments_lexer": "ipython3",
   "version": "3.7.9"
  }
 },
 "nbformat": 4,
 "nbformat_minor": 4
}
